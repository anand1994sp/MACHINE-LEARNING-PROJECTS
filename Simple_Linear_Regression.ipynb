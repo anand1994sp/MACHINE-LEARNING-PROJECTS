{
  "cells": [
    {
      "cell_type": "markdown",
      "metadata": {
        "id": "view-in-github",
        "colab_type": "text"
      },
      "source": [
        "<a href=\"https://colab.research.google.com/github/anand1994sp/MACHINE-LEARNING-PROJECTS/blob/main/Simple_Linear_Regression.ipynb\" target=\"_parent\"><img src=\"https://colab.research.google.com/assets/colab-badge.svg\" alt=\"Open In Colab\"/></a>"
      ]
    },
    {
      "cell_type": "code",
      "execution_count": null,
      "id": "6d8386f1",
      "metadata": {
        "id": "6d8386f1"
      },
      "outputs": [],
      "source": [
        "import os\n",
        "import numpy as np\n",
        "import pandas as pd\n",
        "import matplotlib.pyplot as plt\n",
        "import seaborn as sns\n",
        "%matplotlib inline\n",
        "import warnings\n",
        "warnings.filterwarnings('ignore')\n",
        "import sklearn"
      ]
    },
    {
      "cell_type": "code",
      "execution_count": null,
      "id": "efbab37d",
      "metadata": {
        "id": "efbab37d",
        "outputId": "23347c4d-b70e-4c93-9ae6-43e179c365bf"
      },
      "outputs": [
        {
          "data": {
            "text/html": [
              "<div>\n",
              "<style scoped>\n",
              "    .dataframe tbody tr th:only-of-type {\n",
              "        vertical-align: middle;\n",
              "    }\n",
              "\n",
              "    .dataframe tbody tr th {\n",
              "        vertical-align: top;\n",
              "    }\n",
              "\n",
              "    .dataframe thead th {\n",
              "        text-align: right;\n",
              "    }\n",
              "</style>\n",
              "<table border=\"1\" class=\"dataframe\">\n",
              "  <thead>\n",
              "    <tr style=\"text-align: right;\">\n",
              "      <th></th>\n",
              "      <th>YearsExperience</th>\n",
              "      <th>Salary</th>\n",
              "    </tr>\n",
              "  </thead>\n",
              "  <tbody>\n",
              "    <tr>\n",
              "      <th>0</th>\n",
              "      <td>1.1</td>\n",
              "      <td>39343.0</td>\n",
              "    </tr>\n",
              "    <tr>\n",
              "      <th>1</th>\n",
              "      <td>1.3</td>\n",
              "      <td>46205.0</td>\n",
              "    </tr>\n",
              "    <tr>\n",
              "      <th>2</th>\n",
              "      <td>1.5</td>\n",
              "      <td>37731.0</td>\n",
              "    </tr>\n",
              "    <tr>\n",
              "      <th>3</th>\n",
              "      <td>2.0</td>\n",
              "      <td>43525.0</td>\n",
              "    </tr>\n",
              "    <tr>\n",
              "      <th>4</th>\n",
              "      <td>2.2</td>\n",
              "      <td>39891.0</td>\n",
              "    </tr>\n",
              "  </tbody>\n",
              "</table>\n",
              "</div>"
            ],
            "text/plain": [
              "   YearsExperience   Salary\n",
              "0              1.1  39343.0\n",
              "1              1.3  46205.0\n",
              "2              1.5  37731.0\n",
              "3              2.0  43525.0\n",
              "4              2.2  39891.0"
            ]
          },
          "execution_count": 2,
          "metadata": {},
          "output_type": "execute_result"
        }
      ],
      "source": [
        "dataset = pd.read_csv('Salary_Data.csv')\n",
        "dataset.head()"
      ]
    },
    {
      "cell_type": "markdown",
      "id": "26cbd33d",
      "metadata": {
        "id": "26cbd33d"
      },
      "source": [
        "# Pre-Processing\n",
        "### 1) missing data\n",
        "### 2) Encoding\n",
        "### 3) Outlier\n",
        "### 4) Feature Scaling \n",
        "### 5) Imbalance dataset - this is not required as it's applicable only for classification problem"
      ]
    },
    {
      "cell_type": "code",
      "execution_count": null,
      "id": "5dfcf581",
      "metadata": {
        "id": "5dfcf581",
        "outputId": "a96929c7-bbde-4a15-ff49-d1fccf6e0b86"
      },
      "outputs": [
        {
          "data": {
            "text/plain": [
              "YearsExperience    0\n",
              "Salary             0\n",
              "dtype: int64"
            ]
          },
          "execution_count": 3,
          "metadata": {},
          "output_type": "execute_result"
        }
      ],
      "source": [
        "# part 1 - there is no missing data found\n",
        "dataset.isnull().sum()"
      ]
    },
    {
      "cell_type": "code",
      "execution_count": null,
      "id": "348b1b0d",
      "metadata": {
        "id": "348b1b0d",
        "outputId": "2d453c29-27f9-479d-c97c-0db6418fd188"
      },
      "outputs": [
        {
          "name": "stdout",
          "output_type": "stream",
          "text": [
            "<class 'pandas.core.frame.DataFrame'>\n",
            "RangeIndex: 30 entries, 0 to 29\n",
            "Data columns (total 2 columns):\n",
            " #   Column           Non-Null Count  Dtype  \n",
            "---  ------           --------------  -----  \n",
            " 0   YearsExperience  30 non-null     float64\n",
            " 1   Salary           30 non-null     float64\n",
            "dtypes: float64(2)\n",
            "memory usage: 608.0 bytes\n"
          ]
        }
      ],
      "source": [
        "# part 2 - Encoding - not required as variable is numerica \n",
        "dataset.info()"
      ]
    },
    {
      "cell_type": "code",
      "execution_count": null,
      "id": "4e60b72e",
      "metadata": {
        "id": "4e60b72e",
        "outputId": "c4fe20f1-56a3-4ca1-b854-233ecf6390e0"
      },
      "outputs": [
        {
          "data": {
            "image/png": "[encoded data removed]",
            "text/plain": [
              "<Figure size 432x288 with 1 Axes>"
            ]
          },
          "metadata": {
            "needs_background": "light"
          },
          "output_type": "display_data"
        }
      ],
      "source": [
        "# part 3 - outlier treatement (only check with Independent variable)\n",
        "# No outlier found \n",
        "sns.boxplot(y = 'YearsExperience', data=dataset)\n",
        "plt.show()"
      ]
    },
    {
      "cell_type": "code",
      "execution_count": null,
      "id": "3b84f0a5",
      "metadata": {
        "id": "3b84f0a5"
      },
      "outputs": [],
      "source": [
        "# part 4 - feature scaling\n",
        "# since,it's simple linear regression and we have only one independent variable. hence, no need to do feature scalling"
      ]
    },
    {
      "cell_type": "markdown",
      "id": "595001b3",
      "metadata": {
        "id": "595001b3"
      },
      "source": [
        "#### Pre-processing part completed #####"
      ]
    },
    {
      "cell_type": "code",
      "execution_count": null,
      "id": "8ca6faca",
      "metadata": {
        "id": "8ca6faca"
      },
      "outputs": [],
      "source": []
    },
    {
      "cell_type": "code",
      "execution_count": null,
      "id": "de685b9f",
      "metadata": {
        "id": "de685b9f"
      },
      "outputs": [],
      "source": [
        "# Split the data into independent and dependent variable\n",
        "# x = dataset['YearsExperience'].values # independent variable\n",
        "# y = dataset['Salary'].values # dependent variable"
      ]
    },
    {
      "cell_type": "code",
      "execution_count": null,
      "id": "7dc7fd30",
      "metadata": {
        "id": "7dc7fd30"
      },
      "outputs": [],
      "source": [
        "x1 = dataset.iloc[:,0:1].values\n",
        "y1 = dataset.iloc[:,1].values"
      ]
    },
    {
      "cell_type": "code",
      "execution_count": null,
      "id": "08ec0c07",
      "metadata": {
        "id": "08ec0c07",
        "outputId": "597d9a01-223d-472d-a09a-7d35acefda42"
      },
      "outputs": [
        {
          "data": {
            "text/plain": [
              "array([[ 1.1],\n",
              "       [ 1.3],\n",
              "       [ 1.5],\n",
              "       [ 2. ],\n",
              "       [ 2.2],\n",
              "       [ 2.9],\n",
              "       [ 3. ],\n",
              "       [ 3.2],\n",
              "       [ 3.2],\n",
              "       [ 3.7],\n",
              "       [ 3.9],\n",
              "       [ 4. ],\n",
              "       [ 4. ],\n",
              "       [ 4.1],\n",
              "       [ 4.5],\n",
              "       [ 4.9],\n",
              "       [ 5.1],\n",
              "       [ 5.3],\n",
              "       [ 5.9],\n",
              "       [ 6. ],\n",
              "       [ 6.8],\n",
              "       [ 7.1],\n",
              "       [ 7.9],\n",
              "       [ 8.2],\n",
              "       [ 8.7],\n",
              "       [ 9. ],\n",
              "       [ 9.5],\n",
              "       [ 9.6],\n",
              "       [10.3],\n",
              "       [10.5]])"
            ]
          },
          "execution_count": 32,
          "metadata": {},
          "output_type": "execute_result"
        }
      ],
      "source": [
        "x1"
      ]
    },
    {
      "cell_type": "code",
      "execution_count": null,
      "id": "dceb41f5",
      "metadata": {
        "id": "dceb41f5",
        "outputId": "d7ee24e1-fbc9-49dc-e5b2-df4a27a5b953"
      },
      "outputs": [
        {
          "data": {
            "text/plain": [
              "array([ 39343.,  46205.,  37731.,  43525.,  39891.,  56642.,  60150.,\n",
              "        54445.,  64445.,  57189.,  63218.,  55794.,  56957.,  57081.,\n",
              "        61111.,  67938.,  66029.,  83088.,  81363.,  93940.,  91738.,\n",
              "        98273., 101302., 113812., 109431., 105582., 116969., 112635.,\n",
              "       122391., 121872.])"
            ]
          },
          "execution_count": 33,
          "metadata": {},
          "output_type": "execute_result"
        }
      ],
      "source": [
        "y1"
      ]
    },
    {
      "cell_type": "code",
      "execution_count": null,
      "id": "a89f21e6",
      "metadata": {
        "id": "a89f21e6",
        "outputId": "889fa975-b000-4188-86f4-bc3788e1d956"
      },
      "outputs": [
        {
          "name": "stdout",
          "output_type": "stream",
          "text": [
            "(21, 1)\n",
            "(9, 1)\n",
            "(21,)\n",
            "(9,)\n"
          ]
        }
      ],
      "source": [
        "# split the data into training and test\n",
        "# training dataset - model building\n",
        "# test dataset - prediction \n",
        "from sklearn.model_selection import train_test_split\n",
        "x_train, x_test, y_train, y_test = train_test_split(x1, y1, train_size=0.7, random_state=101)\n",
        "print(x_train.shape)\n",
        "print(x_test.shape)\n",
        "print(y_train.shape)\n",
        "print(y_test.shape)"
      ]
    },
    {
      "cell_type": "code",
      "execution_count": null,
      "id": "5b858431",
      "metadata": {
        "id": "5b858431",
        "outputId": "07700416-a650-4869-a117-2394822091fc"
      },
      "outputs": [
        {
          "name": "stdout",
          "output_type": "stream",
          "text": [
            "21\n",
            "21\n"
          ]
        }
      ],
      "source": [
        "print(len(y_train))\n",
        "print(len(x_train))"
      ]
    },
    {
      "cell_type": "markdown",
      "id": "adb9f3ef",
      "metadata": {
        "id": "adb9f3ef"
      },
      "source": [
        "# Build Linear Regression Model"
      ]
    },
    {
      "cell_type": "code",
      "execution_count": null,
      "id": "7355aa1b",
      "metadata": {
        "id": "7355aa1b",
        "outputId": "bc5c1953-2c92-4f57-fe30-d98d3bd6f3de"
      },
      "outputs": [
        {
          "data": {
            "text/html": [
              "<style>#sk-container-id-2 {color: black;background-color: white;}#sk-container-id-2 pre{padding: 0;}#sk-container-id-2 div.sk-toggleable {background-color: white;}#sk-container-id-2 label.sk-toggleable__label {cursor: pointer;display: block;width: 100%;margin-bottom: 0;padding: 0.3em;box-sizing: border-box;text-align: center;}#sk-container-id-2 label.sk-toggleable__label-arrow:before {content: \"▸\";float: left;margin-right: 0.25em;color: #696969;}#sk-container-id-2 label.sk-toggleable__label-arrow:hover:before {color: black;}#sk-container-id-2 div.sk-estimator:hover label.sk-toggleable__label-arrow:before {color: black;}#sk-container-id-2 div.sk-toggleable__content {max-height: 0;max-width: 0;overflow: hidden;text-align: left;background-color: #f0f8ff;}#sk-container-id-2 div.sk-toggleable__content pre {margin: 0.2em;color: black;border-radius: 0.25em;background-color: #f0f8ff;}#sk-container-id-2 input.sk-toggleable__control:checked~div.sk-toggleable__content {max-height: 200px;max-width: 100%;overflow: auto;}#sk-container-id-2 input.sk-toggleable__control:checked~label.sk-toggleable__label-arrow:before {content: \"▾\";}#sk-container-id-2 div.sk-estimator input.sk-toggleable__control:checked~label.sk-toggleable__label {background-color: #d4ebff;}#sk-container-id-2 div.sk-label input.sk-toggleable__control:checked~label.sk-toggleable__label {background-color: #d4ebff;}#sk-container-id-2 input.sk-hidden--visually {border: 0;clip: rect(1px 1px 1px 1px);clip: rect(1px, 1px, 1px, 1px);height: 1px;margin: -1px;overflow: hidden;padding: 0;position: absolute;width: 1px;}#sk-container-id-2 div.sk-estimator {font-family: monospace;background-color: #f0f8ff;border: 1px dotted black;border-radius: 0.25em;box-sizing: border-box;margin-bottom: 0.5em;}#sk-container-id-2 div.sk-estimator:hover {background-color: #d4ebff;}#sk-container-id-2 div.sk-parallel-item::after {content: \"\";width: 100%;border-bottom: 1px solid gray;flex-grow: 1;}#sk-container-id-2 div.sk-label:hover label.sk-toggleable__label {background-color: #d4ebff;}#sk-container-id-2 div.sk-serial::before {content: \"\";position: absolute;border-left: 1px solid gray;box-sizing: border-box;top: 0;bottom: 0;left: 50%;z-index: 0;}#sk-container-id-2 div.sk-serial {display: flex;flex-direction: column;align-items: center;background-color: white;padding-right: 0.2em;padding-left: 0.2em;position: relative;}#sk-container-id-2 div.sk-item {position: relative;z-index: 1;}#sk-container-id-2 div.sk-parallel {display: flex;align-items: stretch;justify-content: center;background-color: white;position: relative;}#sk-container-id-2 div.sk-item::before, #sk-container-id-2 div.sk-parallel-item::before {content: \"\";position: absolute;border-left: 1px solid gray;box-sizing: border-box;top: 0;bottom: 0;left: 50%;z-index: -1;}#sk-container-id-2 div.sk-parallel-item {display: flex;flex-direction: column;z-index: 1;position: relative;background-color: white;}#sk-container-id-2 div.sk-parallel-item:first-child::after {align-self: flex-end;width: 50%;}#sk-container-id-2 div.sk-parallel-item:last-child::after {align-self: flex-start;width: 50%;}#sk-container-id-2 div.sk-parallel-item:only-child::after {width: 0;}#sk-container-id-2 div.sk-dashed-wrapped {border: 1px dashed gray;margin: 0 0.4em 0.5em 0.4em;box-sizing: border-box;padding-bottom: 0.4em;background-color: white;}#sk-container-id-2 div.sk-label label {font-family: monospace;font-weight: bold;display: inline-block;line-height: 1.2em;}#sk-container-id-2 div.sk-label-container {text-align: center;}#sk-container-id-2 div.sk-container {/* jupyter's `normalize.less` sets `[hidden] { display: none; }` but bootstrap.min.css set `[hidden] { display: none !important; }` so we also need the `!important` here to be able to override the default hidden behavior on the sphinx rendered scikit-learn.org. See: https://github.com/scikit-learn/scikit-learn/issues/21755 */display: inline-block !important;position: relative;}#sk-container-id-2 div.sk-text-repr-fallback {display: none;}</style><div id=\"sk-container-id-2\" class=\"sk-top-container\"><div class=\"sk-text-repr-fallback\"><pre>LinearRegression()</pre><b>In a Jupyter environment, please rerun this cell to show the HTML representation or trust the notebook. <br />On GitHub, the HTML representation is unable to render, please try loading this page with nbviewer.org.</b></div><div class=\"sk-container\" hidden><div class=\"sk-item\"><div class=\"sk-estimator sk-toggleable\"><input class=\"sk-toggleable__control sk-hidden--visually\" id=\"sk-estimator-id-2\" type=\"checkbox\" checked><label for=\"sk-estimator-id-2\" class=\"sk-toggleable__label sk-toggleable__label-arrow\">LinearRegression</label><div class=\"sk-toggleable__content\"><pre>LinearRegression()</pre></div></div></div></div></div>"
            ],
            "text/plain": [
              "LinearRegression()"
            ]
          },
          "execution_count": 35,
          "metadata": {},
          "output_type": "execute_result"
        }
      ],
      "source": [
        "from sklearn.linear_model import LinearRegression\n",
        "lin_model = LinearRegression()\n",
        "lin_model.fit(x_train, y_train)"
      ]
    },
    {
      "cell_type": "code",
      "execution_count": null,
      "id": "f3131e7d",
      "metadata": {
        "id": "f3131e7d",
        "outputId": "f218de82-eb09-46a0-b7d0-c1d4c5d2d13d"
      },
      "outputs": [
        {
          "name": "stdout",
          "output_type": "stream",
          "text": [
            "Co-efficient or Slope : [9577.17174975]\n",
            "Intercept : 25975.814659541138\n",
            "Y = 9577.17174975*YearsExperience + 9577.17174975\n"
          ]
        }
      ],
      "source": [
        "# Y = MX + C\n",
        "# M = SLOPE\n",
        "# C = Intercept\n",
        "print(\"Co-efficient or Slope :\", lin_model.coef_)\n",
        "print(\"Intercept :\", lin_model.intercept_)\n",
        "print(\"Y = 9577.17174975*YearsExperience + 9577.17174975\")"
      ]
    },
    {
      "cell_type": "code",
      "execution_count": null,
      "id": "2a81287f",
      "metadata": {
        "id": "2a81287f"
      },
      "outputs": [],
      "source": [
        "# Predict the x_test data with linear_model\n",
        "\n",
        "y_pred = lin_model.predict(x_test)"
      ]
    },
    {
      "cell_type": "code",
      "execution_count": null,
      "id": "bc1be2d2",
      "metadata": {
        "id": "bc1be2d2",
        "outputId": "e9d4a35d-4766-4282-a664-bc70c0bbdbec"
      },
      "outputs": [
        {
          "data": {
            "text/plain": [
              "array([ 91100.58255782, 109297.20888234,  56622.76425873,  82481.12798305,\n",
              "        40341.57228416, 117916.66345711, 116958.94628213,  74819.39058325,\n",
              "       112170.36040726])"
            ]
          },
          "execution_count": 41,
          "metadata": {},
          "output_type": "execute_result"
        }
      ],
      "source": [
        "y_pred"
      ]
    },
    {
      "cell_type": "code",
      "execution_count": null,
      "id": "de490323",
      "metadata": {
        "id": "de490323",
        "outputId": "8aeaf5b0-f7be-474a-a512-fa0dede03715"
      },
      "outputs": [
        {
          "name": "stdout",
          "output_type": "stream",
          "text": [
            "0.9746363787521536\n"
          ]
        }
      ],
      "source": [
        "# Evaluate your model\n",
        "from sklearn.metrics import r2_score\n",
        "print(r2_score(y_test,y_pred))"
      ]
    },
    {
      "cell_type": "code",
      "execution_count": null,
      "id": "a8dc6889",
      "metadata": {
        "id": "a8dc6889",
        "outputId": "98c49fe8-af88-4f51-e2da-7ecc9910b25a"
      },
      "outputs": [
        {
          "data": {
            "text/plain": [
              "[<matplotlib.lines.Line2D at 0x1ff78ebb430>]"
            ]
          },
          "execution_count": 43,
          "metadata": {},
          "output_type": "execute_result"
        },
        {
          "data": {
            "image/png": "[encoded data removed]",
            "text/plain": [
              "<Figure size 432x288 with 1 Axes>"
            ]
          },
          "metadata": {
            "needs_background": "light"
          },
          "output_type": "display_data"
        }
      ],
      "source": [
        "# visualisation\n",
        "plt.scatter(x_train, y_train, color ='red')\n",
        "plt.plot(x_train, lin_model.predict(x_train), color='blue')"
      ]
    },
    {
      "cell_type": "code",
      "execution_count": null,
      "id": "586ad14e",
      "metadata": {
        "id": "586ad14e",
        "outputId": "58d6a096-f784-4648-86ca-cd0e30a85c45"
      },
      "outputs": [
        {
          "data": {
            "text/plain": [
              "[<matplotlib.lines.Line2D at 0x1ff76e0fbb0>]"
            ]
          },
          "execution_count": 44,
          "metadata": {},
          "output_type": "execute_result"
        },
        {
          "data": {
            "image/png": "[encoded data removed]",
            "text/plain": [
              "<Figure size 432x288 with 1 Axes>"
            ]
          },
          "metadata": {
            "needs_background": "light"
          },
          "output_type": "display_data"
        }
      ],
      "source": [
        "plt.scatter(x_test, y_test, color ='black')\n",
        "plt.plot(x_test, lin_model.predict(x_test), color='yellow')"
      ]
    },
    {
      "cell_type": "code",
      "execution_count": null,
      "id": "56183699",
      "metadata": {
        "id": "56183699",
        "outputId": "0d9764c3-6f03-49b4-ac5d-0da7902b55f9"
      },
      "outputs": [
        {
          "data": {
            "text/html": [
              "<div>\n",
              "<style scoped>\n",
              "    .dataframe tbody tr th:only-of-type {\n",
              "        vertical-align: middle;\n",
              "    }\n",
              "\n",
              "    .dataframe tbody tr th {\n",
              "        vertical-align: top;\n",
              "    }\n",
              "\n",
              "    .dataframe thead th {\n",
              "        text-align: right;\n",
              "    }\n",
              "</style>\n",
              "<table border=\"1\" class=\"dataframe\">\n",
              "  <thead>\n",
              "    <tr style=\"text-align: right;\">\n",
              "      <th></th>\n",
              "      <th>YearsExperience</th>\n",
              "    </tr>\n",
              "  </thead>\n",
              "  <tbody>\n",
              "    <tr>\n",
              "      <th>0</th>\n",
              "      <td>0.50</td>\n",
              "    </tr>\n",
              "    <tr>\n",
              "      <th>1</th>\n",
              "      <td>2.50</td>\n",
              "    </tr>\n",
              "    <tr>\n",
              "      <th>2</th>\n",
              "      <td>5.00</td>\n",
              "    </tr>\n",
              "    <tr>\n",
              "      <th>3</th>\n",
              "      <td>10.00</td>\n",
              "    </tr>\n",
              "    <tr>\n",
              "      <th>4</th>\n",
              "      <td>12.00</td>\n",
              "    </tr>\n",
              "    <tr>\n",
              "      <th>5</th>\n",
              "      <td>6.00</td>\n",
              "    </tr>\n",
              "    <tr>\n",
              "      <th>6</th>\n",
              "      <td>7.00</td>\n",
              "    </tr>\n",
              "    <tr>\n",
              "      <th>7</th>\n",
              "      <td>4.30</td>\n",
              "    </tr>\n",
              "    <tr>\n",
              "      <th>8</th>\n",
              "      <td>2.25</td>\n",
              "    </tr>\n",
              "    <tr>\n",
              "      <th>9</th>\n",
              "      <td>1.75</td>\n",
              "    </tr>\n",
              "    <tr>\n",
              "      <th>10</th>\n",
              "      <td>15.00</td>\n",
              "    </tr>\n",
              "    <tr>\n",
              "      <th>11</th>\n",
              "      <td>20.00</td>\n",
              "    </tr>\n",
              "  </tbody>\n",
              "</table>\n",
              "</div>"
            ],
            "text/plain": [
              "    YearsExperience\n",
              "0              0.50\n",
              "1              2.50\n",
              "2              5.00\n",
              "3             10.00\n",
              "4             12.00\n",
              "5              6.00\n",
              "6              7.00\n",
              "7              4.30\n",
              "8              2.25\n",
              "9              1.75\n",
              "10            15.00\n",
              "11            20.00"
            ]
          },
          "execution_count": 45,
          "metadata": {},
          "output_type": "execute_result"
        }
      ],
      "source": [
        "newdata = pd.read_excel('Predict_Salary_basis_exp.xlsx')\n",
        "newdata"
      ]
    },
    {
      "cell_type": "code",
      "execution_count": null,
      "id": "c7ea94f0",
      "metadata": {
        "id": "c7ea94f0"
      },
      "outputs": [],
      "source": [
        "pred_new_salary = lin_model.predict(newdata)"
      ]
    },
    {
      "cell_type": "code",
      "execution_count": null,
      "id": "1f27645c",
      "metadata": {
        "id": "1f27645c",
        "outputId": "073c3f15-48bc-4fe2-8c0d-b77fb1679d80"
      },
      "outputs": [
        {
          "data": {
            "text/plain": [
              "array([ 30764.40053441,  49918.74403391,  73861.67340827, 121747.53215701,\n",
              "       140901.8756565 ,  83438.84515802,  93016.01690777,  67157.65318345,\n",
              "        47524.45109647,  42735.8652216 , 169633.39090574, 217519.24965447])"
            ]
          },
          "execution_count": 47,
          "metadata": {},
          "output_type": "execute_result"
        }
      ],
      "source": [
        "pred_new_salary"
      ]
    },
    {
      "cell_type": "code",
      "execution_count": null,
      "id": "bbc26afd",
      "metadata": {
        "id": "bbc26afd"
      },
      "outputs": [],
      "source": [
        "new_salary = pd.concat([newdata,pd.DataFrame(pred_new_salary)], axis=1)"
      ]
    },
    {
      "cell_type": "code",
      "execution_count": null,
      "id": "1e0c7d72",
      "metadata": {
        "id": "1e0c7d72"
      },
      "outputs": [],
      "source": [
        "new_salary.columns = ['YearsExperience','New Salary']"
      ]
    },
    {
      "cell_type": "code",
      "execution_count": null,
      "id": "b125119a",
      "metadata": {
        "id": "b125119a",
        "outputId": "e41ad31f-07c8-4fb1-93ab-0801ce98241a"
      },
      "outputs": [
        {
          "data": {
            "text/html": [
              "<div>\n",
              "<style scoped>\n",
              "    .dataframe tbody tr th:only-of-type {\n",
              "        vertical-align: middle;\n",
              "    }\n",
              "\n",
              "    .dataframe tbody tr th {\n",
              "        vertical-align: top;\n",
              "    }\n",
              "\n",
              "    .dataframe thead th {\n",
              "        text-align: right;\n",
              "    }\n",
              "</style>\n",
              "<table border=\"1\" class=\"dataframe\">\n",
              "  <thead>\n",
              "    <tr style=\"text-align: right;\">\n",
              "      <th></th>\n",
              "      <th>YearsExperience</th>\n",
              "      <th>New Salary</th>\n",
              "    </tr>\n",
              "  </thead>\n",
              "  <tbody>\n",
              "    <tr>\n",
              "      <th>0</th>\n",
              "      <td>0.50</td>\n",
              "      <td>30764.400534</td>\n",
              "    </tr>\n",
              "    <tr>\n",
              "      <th>1</th>\n",
              "      <td>2.50</td>\n",
              "      <td>49918.744034</td>\n",
              "    </tr>\n",
              "    <tr>\n",
              "      <th>2</th>\n",
              "      <td>5.00</td>\n",
              "      <td>73861.673408</td>\n",
              "    </tr>\n",
              "    <tr>\n",
              "      <th>3</th>\n",
              "      <td>10.00</td>\n",
              "      <td>121747.532157</td>\n",
              "    </tr>\n",
              "    <tr>\n",
              "      <th>4</th>\n",
              "      <td>12.00</td>\n",
              "      <td>140901.875657</td>\n",
              "    </tr>\n",
              "    <tr>\n",
              "      <th>5</th>\n",
              "      <td>6.00</td>\n",
              "      <td>83438.845158</td>\n",
              "    </tr>\n",
              "    <tr>\n",
              "      <th>6</th>\n",
              "      <td>7.00</td>\n",
              "      <td>93016.016908</td>\n",
              "    </tr>\n",
              "    <tr>\n",
              "      <th>7</th>\n",
              "      <td>4.30</td>\n",
              "      <td>67157.653183</td>\n",
              "    </tr>\n",
              "    <tr>\n",
              "      <th>8</th>\n",
              "      <td>2.25</td>\n",
              "      <td>47524.451096</td>\n",
              "    </tr>\n",
              "    <tr>\n",
              "      <th>9</th>\n",
              "      <td>1.75</td>\n",
              "      <td>42735.865222</td>\n",
              "    </tr>\n",
              "    <tr>\n",
              "      <th>10</th>\n",
              "      <td>15.00</td>\n",
              "      <td>169633.390906</td>\n",
              "    </tr>\n",
              "    <tr>\n",
              "      <th>11</th>\n",
              "      <td>20.00</td>\n",
              "      <td>217519.249654</td>\n",
              "    </tr>\n",
              "  </tbody>\n",
              "</table>\n",
              "</div>"
            ],
            "text/plain": [
              "    YearsExperience     New Salary\n",
              "0              0.50   30764.400534\n",
              "1              2.50   49918.744034\n",
              "2              5.00   73861.673408\n",
              "3             10.00  121747.532157\n",
              "4             12.00  140901.875657\n",
              "5              6.00   83438.845158\n",
              "6              7.00   93016.016908\n",
              "7              4.30   67157.653183\n",
              "8              2.25   47524.451096\n",
              "9              1.75   42735.865222\n",
              "10            15.00  169633.390906\n",
              "11            20.00  217519.249654"
            ]
          },
          "execution_count": 61,
          "metadata": {},
          "output_type": "execute_result"
        }
      ],
      "source": [
        "new_salary"
      ]
    },
    {
      "cell_type": "code",
      "execution_count": null,
      "id": "aecca509",
      "metadata": {
        "id": "aecca509"
      },
      "outputs": [],
      "source": [
        "new_salary.to_csv(\"new salary.csv\")"
      ]
    }
  ],
  "metadata": {
    "kernelspec": {
      "display_name": "Python 3 (ipykernel)",
      "language": "python",
      "name": "python3"
    },
    "language_info": {
      "codemirror_mode": {
        "name": "ipython",
        "version": 3
      },
      "file_extension": ".py",
      "mimetype": "text/x-python",
      "name": "python",
      "nbconvert_exporter": "python",
      "pygments_lexer": "ipython3",
      "version": "3.9.12"
    },
    "colab": {
      "provenance": [],
      "include_colab_link": true
    }
  },
  "nbformat": 4,
  "nbformat_minor": 5
}